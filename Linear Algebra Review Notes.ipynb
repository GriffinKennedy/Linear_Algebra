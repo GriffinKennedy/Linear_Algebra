{
 "cells": [
  {
   "cell_type": "markdown",
   "metadata": {},
   "source": [
    "# Linear Algebra Review \n",
    "\n",
    "The purpose of these notes is to give a comprehensive overview of the concepts in linear algebra. If a number in peranethesis appears it is to indicate the Gilbert Strang Lecture number that can be found on youtube."
   ]
  },
  {
   "cell_type": "markdown",
   "metadata": {},
   "source": [
    "## Dictionary\n",
    "\n",
    "Singular: A square matrix with no inverse; det(A) = 0.\n",
    "Invertable:\n",
    "\n",
    "Linear independence: Vectors are L.I. if no combination gives the zero \n",
    "vector. $$C_1X_1 + \\dots + C_nX_1 \\neq 0 $$ $$\\forall C_i \\neq 0$$\n",
    "\n",
    "Linearly Dependent: A combination other than all $c_i = 0$ gives $\\sum c_i v_i = 0$.\n",
    "\n",
    "Span\n",
    "\n",
    "Basis for V: Independent vectors $v_1, \\dots , v_d$ whose linear combination gives each vector in V. In other words, the linear combination of the independent vectors in matrix V gives the basis. \n",
    "\n",
    "Rank: r(A) = number of pivots = dimension of column space = dimension of row space.\n",
    "\n",
    "Column Space:\n",
    "\n",
    "Row Space\n",
    "\n",
    "Null Scace of A contains all solutions , x, where Ax = 0\n",
    "    in an m by n matrix the N(A) is in $R^n$.\n",
    "\n",
    "Left Null Space\n",
    "\n",
    "Dot Product\n",
    "\n",
    "Cross Product\n",
    "\n",
    "Determinant\n",
    "\n",
    "Orthogonal\n",
    "\n",
    "Dimension\n",
    "\n",
    "Eigenvalue\n",
    "\n",
    "EigenVector\n"
   ]
  },
  {
   "cell_type": "markdown",
   "metadata": {},
   "source": [
    "## Fundamental Subspaces"
   ]
  },
  {
   "cell_type": "markdown",
   "metadata": {},
   "source": [
    "## Projections (15)\n",
    "\n",
    "*Normal equation* $A^T A\\hat x = A^Tb$, Gives the least squares solution to $Ax = b$ if A has jull rank n (independent columns). The equations says that $(columns of A)*(b-A\\hat x) = 0$. \n",
    "\n",
    "Lease Square Solution $\\hat x$: The vecot $\\hat x$ that minimizes the error $\\|e\\|^2$ solves $ A^T A\\hat x = A^T b$. Then $e = b - A \\hat x$ is orthogonal to all acomumns of A."
   ]
  },
  {
   "cell_type": "markdown",
   "metadata": {},
   "source": [
    "## Properties of Determinant (18)"
   ]
  },
  {
   "cell_type": "markdown",
   "metadata": {},
   "source": [
    "## Eigenvalue and Eigenvector"
   ]
  },
  {
   "cell_type": "markdown",
   "metadata": {},
   "source": [
    "## "
   ]
  }
 ],
 "metadata": {
  "kernelspec": {
   "display_name": "Python3 w/Conda",
   "language": "python",
   "name": "ipykernal_py3"
  },
  "language_info": {
   "codemirror_mode": {
    "name": "ipython",
    "version": 3
   },
   "file_extension": ".py",
   "mimetype": "text/x-python",
   "name": "python",
   "nbconvert_exporter": "python",
   "pygments_lexer": "ipython3",
   "version": "3.6.1"
  }
 },
 "nbformat": 4,
 "nbformat_minor": 2
}
